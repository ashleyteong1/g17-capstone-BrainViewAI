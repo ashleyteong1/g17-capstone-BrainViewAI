{
 "cells": [
  {
   "cell_type": "markdown",
   "metadata": {},
   "source": [
    "# SVM attempt #2"
   ]
  },
  {
   "cell_type": "code",
   "execution_count": 2,
   "metadata": {},
   "outputs": [],
   "source": [
    "import os\n",
    "import pandas as pd\n",
    "import numpy as np\n",
    "from sklearn.model_selection import train_test_split\n",
    "from sklearn.preprocessing import StandardScaler\n",
    "from sklearn.svm import SVC\n",
    "from sklearn.metrics import classification_report, accuracy_score\n",
    "from skimage.io import imread\n",
    "from skimage.transform import resize\n",
    "from PIL import Image \n",
    "from sklearn.metrics import confusion_matrix, ConfusionMatrixDisplay"
   ]
  },
  {
   "cell_type": "markdown",
   "metadata": {},
   "source": [
    "## Part 1: image loading "
   ]
  },
  {
   "cell_type": "code",
   "execution_count": 3,
   "metadata": {},
   "outputs": [
    {
     "name": "stdout",
     "output_type": "stream",
     "text": [
      "Loaded 200 images and 200 labels.\n",
      "First image shape: (4096,)\n"
     ]
    }
   ],
   "source": [
    "# to use code, change filepath based on dataset download\n",
    "image_dir = r\"C:\\Users\\sabri\\Documents\\Capstone\\Datasets\\hemorrhage CT (w labels)\\head_ct\\head_ct\"\n",
    "csv_file = r\"C:\\Users\\sabri\\Documents\\Capstone\\Datasets\\hemorrhage CT (w labels)\\labels.csv\"  \n",
    "\n",
    "# load csv file\n",
    "label_df = pd.read_csv(csv_file)\n",
    "\n",
    "# padding to standardize image name and id in csv file\n",
    "padding_length = 3\n",
    "label_df[\"padded_id\"] = label_df[\"id\"].apply(lambda x: str(x).zfill(padding_length))\n",
    "\n",
    "image_label_mapping = dict(zip(label_df[\"padded_id\"], label_df[\"hemorrhage\"]))\n",
    "\n",
    "# Prepare the dataset\n",
    "images = []\n",
    "labels = []\n",
    "\n",
    "for image_file in os.listdir(image_dir):\n",
    "    # Extract the ID from the filename (remove the .png extension)\n",
    "    image_id = os.path.splitext(image_file)[0]\n",
    "    \n",
    "    if image_id in image_label_mapping:  # Check if the ID exists in the mapping\n",
    "        image_path = os.path.join(image_dir, image_file)\n",
    "        try:\n",
    "            # Load and resize the image\n",
    "            image = Image.open(image_path).convert(\"L\")  # Convert to grayscale\n",
    "            image_resized = resize(np.array(image), (64, 64))  # Resize to 64x64\n",
    "            images.append(image_resized.flatten())  # Flatten to 1D array\n",
    "            labels.append(image_label_mapping[image_id])  # Append the corresponding label\n",
    "        except Exception as e:\n",
    "            print(f\"Error processing image {image_file}: {e}\")\n",
    "\n",
    "# Convert to numpy arrays\n",
    "X = np.array(images)\n",
    "y = np.array(labels)\n",
    "\n",
    "# Debug outputs\n",
    "print(f\"Loaded {len(X)} images and {len(y)} labels.\")\n",
    "if len(X) > 0:\n",
    "    print(f\"First image shape: {X[0].shape}\")\n"
   ]
  },
  {
   "cell_type": "code",
   "execution_count": 4,
   "metadata": {},
   "outputs": [
    {
     "name": "stdout",
     "output_type": "stream",
     "text": [
      "   id  hemorrhage padded_id\n",
      "0   0           1       000\n",
      "1   1           1       001\n",
      "2   2           1       002\n",
      "3   3           1       003\n",
      "4   4           1       004\n",
      "Index(['id', 'hemorrhage', 'padded_id'], dtype='object')\n",
      "Images in directory: ['000.png', '001.png', '002.png', '003.png', '004.png', '005.png', '006.png', '007.png', '008.png', '009.png', '010.png', '011.png', '012.png', '013.png', '014.png', '015.png', '016.png', '017.png', '018.png', '019.png', '020.png', '021.png', '022.png', '023.png', '024.png', '025.png', '026.png', '027.png', '028.png', '029.png', '030.png', '031.png', '032.png', '033.png', '034.png', '035.png', '036.png', '037.png', '038.png', '039.png', '040.png', '041.png', '042.png', '043.png', '044.png', '045.png', '046.png', '047.png', '048.png', '049.png', '050.png', '051.png', '052.png', '053.png', '054.png', '055.png', '056.png', '057.png', '058.png', '059.png', '060.png', '061.png', '062.png', '063.png', '064.png', '065.png', '066.png', '067.png', '068.png', '069.png', '070.png', '071.png', '072.png', '073.png', '074.png', '075.png', '076.png', '077.png', '078.png', '079.png', '080.png', '081.png', '082.png', '083.png', '084.png', '085.png', '086.png', '087.png', '088.png', '089.png', '090.png', '091.png', '092.png', '093.png', '094.png', '095.png', '096.png', '097.png', '098.png', '099.png', '100.png', '101.png', '102.png', '103.png', '104.png', '105.png', '106.png', '107.png', '108.png', '109.png', '110.png', '111.png', '112.png', '113.png', '114.png', '115.png', '116.png', '117.png', '118.png', '119.png', '120.png', '121.png', '122.png', '123.png', '124.png', '125.png', '126.png', '127.png', '128.png', '129.png', '130.png', '131.png', '132.png', '133.png', '134.png', '135.png', '136.png', '137.png', '138.png', '139.png', '140.png', '141.png', '142.png', '143.png', '144.png', '145.png', '146.png', '147.png', '148.png', '149.png', '150.png', '151.png', '152.png', '153.png', '154.png', '155.png', '156.png', '157.png', '158.png', '159.png', '160.png', '161.png', '162.png', '163.png', '164.png', '165.png', '166.png', '167.png', '168.png', '169.png', '170.png', '171.png', '172.png', '173.png', '174.png', '175.png', '176.png', '177.png', '178.png', '179.png', '180.png', '181.png', '182.png', '183.png', '184.png', '185.png', '186.png', '187.png', '188.png', '189.png', '190.png', '191.png', '192.png', '193.png', '194.png', '195.png', '196.png', '197.png', '198.png', '199.png']\n",
      "X shape: (200, 4096)\n",
      "y shape: (200,)\n",
      "Number of images loaded: 200\n",
      "Number of labels: 200\n",
      "Sample labels: [1, 1, 1, 1, 1]\n"
     ]
    }
   ],
   "source": [
    "# some visualization to check if images loaded properly \n",
    "\n",
    "print(label_df.head())\n",
    "print(label_df.columns)\n",
    "print(\"Images in directory:\", os.listdir(image_dir))  \n",
    "print(\"X shape:\", X.shape)\n",
    "print(\"y shape:\", y.shape)\n",
    "print(\"Number of images loaded:\", len(images)) \n",
    "print(\"Number of labels:\", len(labels))  \n",
    "print(\"Sample labels:\", labels[:5])"
   ]
  },
  {
   "cell_type": "markdown",
   "metadata": {},
   "source": [
    "## part 2: SVM model training"
   ]
  },
  {
   "cell_type": "code",
   "execution_count": 5,
   "metadata": {},
   "outputs": [
    {
     "name": "stdout",
     "output_type": "stream",
     "text": [
      "Classification Report:\n",
      "              precision    recall  f1-score   support\n",
      "\n",
      "           0       0.80      0.84      0.82        19\n",
      "           1       0.85      0.81      0.83        21\n",
      "\n",
      "    accuracy                           0.82        40\n",
      "   macro avg       0.82      0.83      0.82        40\n",
      "weighted avg       0.83      0.82      0.83        40\n",
      "\n",
      "Accuracy Score: 0.825\n"
     ]
    }
   ],
   "source": [
    "# Split into training and testing sets\n",
    "X_train, X_test, y_train, y_test = train_test_split(X, y, test_size=0.2, random_state=42)\n",
    "\n",
    "# Scale the features\n",
    "scaler = StandardScaler()\n",
    "X_train = scaler.fit_transform(X_train)\n",
    "X_test = scaler.transform(X_test)\n",
    "\n",
    "# Train the SVM model\n",
    "svm_model = SVC(kernel='linear', random_state=42)\n",
    "svm_model.fit(X_train, y_train)\n",
    "\n",
    "# Make predictions\n",
    "y_pred = svm_model.predict(X_test)\n",
    "\n",
    "# Evaluate the model\n",
    "print(\"Classification Report:\")\n",
    "print(classification_report(y_test, y_pred))\n",
    "print(\"Accuracy Score:\", accuracy_score(y_test, y_pred))\n"
   ]
  },
  {
   "cell_type": "code",
   "execution_count": 6,
   "metadata": {},
   "outputs": [
    {
     "data": {
      "text/plain": [
       "<sklearn.metrics._plot.confusion_matrix.ConfusionMatrixDisplay at 0x2d35f0fd280>"
      ]
     },
     "execution_count": 6,
     "metadata": {},
     "output_type": "execute_result"
    },
    {
     "data": {
      "image/png": "[encoded data removed]",
      "text/plain": [
       "<Figure size 640x480 with 2 Axes>"
      ]
     },
     "metadata": {},
     "output_type": "display_data"
    }
   ],
   "source": [
    "\n",
    "# Predict on the test set\n",
    "y_pred = svm_model.predict(X_test)\n",
    "\n",
    "# Create and display the confusion matrix\n",
    "cm = confusion_matrix(y_test, y_pred)\n",
    "disp = ConfusionMatrixDisplay(confusion_matrix=cm, display_labels=['No Hemorrhage', 'Hemorrhage'])\n",
    "disp.plot(cmap=\"viridis\")\n"
   ]
  },
  {
   "cell_type": "markdown",
   "metadata": {},
   "source": [
    "# HML Attempt 1: kmeans + svm"
   ]
  },
  {
   "cell_type": "code",
   "execution_count": 1,
   "metadata": {},
   "outputs": [],
   "source": [
    "import os\n",
    "import numpy as np\n",
    "import pandas as pd\n",
    "from PIL import Image\n",
    "from sklearn.cluster import KMeans\n",
    "from sklearn.svm import SVC\n",
    "from sklearn.preprocessing import StandardScaler\n",
    "from sklearn.model_selection import train_test_split\n",
    "from sklearn.metrics import classification_report, accuracy_score, confusion_matrix, ConfusionMatrixDisplay\n",
    "import matplotlib.pyplot as plt\n",
    "from skimage.transform import resize"
   ]
  },
  {
   "cell_type": "code",
   "execution_count": 2,
   "metadata": {},
   "outputs": [
    {
     "name": "stdout",
     "output_type": "stream",
     "text": [
      "Classification Report:\n",
      "              precision    recall  f1-score   support\n",
      "\n",
      "           0       0.80      0.84      0.82        19\n",
      "           1       0.85      0.81      0.83        21\n",
      "\n",
      "    accuracy                           0.82        40\n",
      "   macro avg       0.82      0.83      0.82        40\n",
      "weighted avg       0.83      0.82      0.83        40\n",
      "\n",
      "Accuracy Score: 0.825\n"
     ]
    },
    {
     "data": {
      "image/png": "[encoded data removed]",
      "text/plain": [
       "<Figure size 640x480 with 2 Axes>"
      ]
     },
     "metadata": {},
     "output_type": "display_data"
    }
   ],
   "source": [
    "image_dir = r\"C:\\Users\\sabri\\Documents\\Capstone\\Datasets\\hemorrhage CT (w labels)\\head_ct\\head_ct\"\n",
    "csv_file = r\"C:\\Users\\sabri\\Documents\\Capstone\\Datasets\\hemorrhage CT (w labels)\\labels.csv\"\n",
    "\n",
    "# load files and pad the ids for consistency\n",
    "label_df = pd.read_csv(csv_file)\n",
    "padding_length = 3\n",
    "label_df[\"padded_id\"] = label_df[\"id\"].apply(lambda x: str(x).zfill(padding_length))\n",
    "image_label_mapping = dict(zip(label_df[\"padded_id\"], label_df[\"hemorrhage\"]))\n",
    "\n",
    "def load_images(image_folder, image_size=(64, 64)):\n",
    "    images = []\n",
    "    labels = []\n",
    "    filenames = []\n",
    "    for image_file in os.listdir(image_folder):\n",
    "        image_id = os.path.splitext(image_file)[0]\n",
    "        if image_id in image_label_mapping:\n",
    "            image_path = os.path.join(image_folder, image_file)\n",
    "            try:\n",
    "                img = Image.open(image_path).convert(\"L\")  # Grayscale conversion\n",
    "                img_resized = resize(np.array(img), image_size)  # Resize\n",
    "                images.append(img_resized.flatten())  # Flatten\n",
    "                labels.append(image_label_mapping[image_id])  # Map label\n",
    "                filenames.append(image_file)\n",
    "            except Exception as e:\n",
    "                print(f\"Error processing {image_file}: {e}\")\n",
    "    return np.array(images), np.array(labels), filenames\n",
    "\n",
    "# preprocessing\n",
    "image_size = (64, 64)\n",
    "images, labels, image_names = load_images(image_dir, image_size)\n",
    "images_normalized = images / 255.0\n",
    "\n",
    "# K-means clustering\n",
    "num_clusters = 2\n",
    "kmeans = KMeans(n_clusters=num_clusters, random_state=42)\n",
    "cluster_features = kmeans.fit_transform(images_normalized) \n",
    "\n",
    "#key: combine the clustered data as features \n",
    "X_combined = np.hstack((images_normalized, cluster_features))\n",
    "\n",
    "# train test split for svm\n",
    "X_train, X_test, y_train, y_test = train_test_split(X_combined, labels, test_size=0.2, random_state=42)\n",
    "\n",
    "# scaling\n",
    "scaler = StandardScaler()\n",
    "X_train_scaled = scaler.fit_transform(X_train)\n",
    "X_test_scaled = scaler.transform(X_test)\n",
    "\n",
    "# svm training\n",
    "svm_model = SVC(kernel='linear', random_state=42)\n",
    "svm_model.fit(X_train_scaled, y_train)\n",
    "\n",
    "y_pred = svm_model.predict(X_test_scaled)\n",
    "\n",
    "print(\"Classification Report:\")\n",
    "print(classification_report(y_test, y_pred))\n",
    "print(\"Accuracy Score:\", accuracy_score(y_test, y_pred))\n",
    "\n",
    "cm = confusion_matrix(y_test, y_pred)\n",
    "disp = ConfusionMatrixDisplay(confusion_matrix=cm, display_labels=['No Hemorrhage', 'Hemorrhage'])\n",
    "disp.plot(cmap=\"viridis\")\n",
    "plt.show()"
   ]
  }
 ],
 "metadata": {
  "kernelspec": {
   "display_name": "Python 3",
   "language": "python",
   "name": "python3"
  },
  "language_info": {
   "codemirror_mode": {
    "name": "ipython",
    "version": 3
   },
   "file_extension": ".py",
   "mimetype": "text/x-python",
   "name": "python",
   "nbconvert_exporter": "python",
   "pygments_lexer": "ipython3",
   "version": "3.12.3"
  }
 },
 "nbformat": 4,
 "nbformat_minor": 2
}
